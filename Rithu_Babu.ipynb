{
  "nbformat": 4,
  "nbformat_minor": 0,
  "metadata": {
    "colab": {
      "name": "Rithu_Babu.ipynb",
      "provenance": []
    },
    "kernelspec": {
      "name": "python3",
      "display_name": "Python 3"
    },
    "language_info": {
      "name": "python"
    }
  },
  "cells": [
    {
      "cell_type": "code",
      "metadata": {
        "id": "ZoIePzyl3DpV"
      },
      "source": [
        "import requests\n",
        "from datetime import datetime"
      ],
      "execution_count": null,
      "outputs": []
    },
    {
      "cell_type": "code",
      "metadata": {
        "colab": {
          "base_uri": "https://localhost:8080/"
        },
        "id": "9E5IIy6x3QbV",
        "outputId": "e1e466b4-4018-4f40-ad80-ae0eeea4a63e"
      },
      "source": [
        "api_key = '87d845b0b6cf29baa1a73cc34b067a95'\n",
        "location = input(\"Enter the city name: \")"
      ],
      "execution_count": null,
      "outputs": [
        {
          "output_type": "stream",
          "text": [
            "Enter the city name: Kerala\n"
          ],
          "name": "stdout"
        }
      ]
    },
    {
      "cell_type": "code",
      "metadata": {
        "id": "YNl_5Vxk337s"
      },
      "source": [
        "complete_api_link = \"https://api.openweathermap.org/data/2.5/weather?q=\"+location+\"&appid=\"+api_key\n",
        "api_link = requests.get(complete_api_link)\n",
        "api_data = api_link.json()"
      ],
      "execution_count": null,
      "outputs": []
    },
    {
      "cell_type": "code",
      "metadata": {
        "id": "nEoyhe28-JVV"
      },
      "source": [
        "temp_city=((api_data['main']['temp'])-273.15)\n",
        "weather_desc = api_data['weather'][0]['description']\n",
        "hmdt = api_data['main']['humidity']\n",
        "wind_spd = api_data['wind']['speed']\n",
        "date_time = datetime.now().strftime(\"%d %b %Y | %I: %M:%S %p\")\n",
        "                        "
      ],
      "execution_count": null,
      "outputs": []
    },
    {
      "cell_type": "code",
      "metadata": {
        "colab": {
          "base_uri": "https://localhost:8080/"
        },
        "id": "ecRD5-g3Afr2",
        "outputId": "15b263d4-62af-445c-e5b2-c6f1f31b54b4"
      },
      "source": [
        "print(\"-----------------------------------------------------------\")\n",
        "print(\"weather Stats for - {} || {}\".format(location.upper(),date_time))\n",
        "print(\"-----------------------------------------------------------\")"
      ],
      "execution_count": null,
      "outputs": [
        {
          "output_type": "stream",
          "text": [
            "-----------------------------------------------------------\n",
            "weather Stats for - KERALA || 21 Jun 2021 | 07: 17:49 PM\n",
            "-----------------------------------------------------------\n"
          ],
          "name": "stdout"
        }
      ]
    },
    {
      "cell_type": "code",
      "metadata": {
        "colab": {
          "base_uri": "https://localhost:8080/"
        },
        "id": "gwH6mAHfBkSh",
        "outputId": "1f1ccb83-0a40-44cf-9395-f4d8b4bde6c7"
      },
      "source": [
        "print(\"current temperature is: {:2f} deg c\".format(temp_city))\n",
        "print(\"current weather desc  :\",weather_desc)\n",
        "print(\"current Humidity      :\",hmdt, '%')\n",
        "print(\"current wind speed    :\",wind_spd ,'kmph')"
      ],
      "execution_count": null,
      "outputs": [
        {
          "output_type": "stream",
          "text": [
            "current temperature is: 25.820000 deg c\n",
            "current weather desc  : overcast clouds\n",
            "current Humidity      : 96 %\n",
            "current wind speed    : 0.82 kmph\n"
          ],
          "name": "stdout"
        }
      ]
    }
  ]
}